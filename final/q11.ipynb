{
 "cells": [
  {
   "cell_type": "markdown",
   "metadata": {},
   "source": [
    "we look at the task of classifying images of digits using k-nearest neighbor classification. use files pa1train.txt, pa1validate.txt, pa1test.txt from ./data/*  They contain training, validation and test data sets.\n",
    "\n",
    "Images are converted into vectors of pixel colors. They are in ASCII format and eah line contains feature vector of size 784, followed by it's label. Cordinates are sepearted by spacees"
   ]
  },
  {
   "cell_type": "markdown",
   "metadata": {},
   "source": [
    "For k =2,4,8,100 KNN from test data. For each write training error and validation error. Which is better on validation data? What is test of error of this? "
   ]
  },
  {
   "cell_type": "code",
   "execution_count": 1,
   "metadata": {},
   "outputs": [],
   "source": [
    "import numpy as np\n",
    "import matplotlib.pyplot as plt\n",
    "import pandas as pd"
   ]
  },
  {
   "cell_type": "code",
   "execution_count": 3,
   "metadata": {},
   "outputs": [
    {
     "data": {
      "image/png": "[encoded data removed]",
      "text/plain": [
       "<Figure size 640x480 with 1 Axes>"
      ]
     },
     "metadata": {},
     "output_type": "display_data"
    }
   ],
   "source": [
    "# For k = 2,48 build KNN\n",
    "# For each k, calculate the accuracy\n",
    "# Plot the accuracy vs k\n",
    "\n",
    "# Load the data\n",
    "train = pd.read_csv('./data/pa1train.txt')\n",
    "test = pd.read_csv('./data/pa1test.txt')\n",
    "\n",
    "# Split the data into X and y\n",
    "X_train = train.iloc[:, :-1].values\n",
    "y_train = train.iloc[:, -1].values\n",
    "X_test = test.iloc[:, :-1].values\n",
    "y_test = test.iloc[:, -1].values\n",
    "\n",
    "# Calculate the distance between two points\n",
    "def distance(x1, x2):\n",
    "    return np.sqrt(np.sum((x1 - x2) ** 2))\n",
    "\n",
    "# Calculate the accuracy\n",
    "def accuracy(y_true, y_pred):\n",
    "    return np.sum(y_true == y_pred) / len(y_true)\n",
    "\n",
    "# KNN\n",
    "def knn(X_train, y_train, X_test, k):\n",
    "\n",
    "    n = X_train.shape[0]\n",
    "\n",
    "    m = X_train.shape[1]\n",
    "    # Store the predictions\n",
    "    predictions = []\n",
    "    # For each test sample\n",
    "    for i in range(len(X_test)):\n",
    "        # Calculate the distance between the test sample and all the training samples\n",
    "        distances = [distance(X_train[j], X_test[i]) for j in range(n)]\n",
    "        # Sort the distances and get the indices of the sorted distances\n",
    "        sorted_indices = np.argsort(distances)\n",
    "        # Get the labels of the k nearest neighbors\n",
    "        neighbors = [y_train[sorted_indices[j]] for j in range(k)]\n",
    "        # Get the most common label\n",
    "        most_common = max(set(neighbors), key = neighbors.count)\n",
    "        # Append the prediction\n",
    "        predictions.append(most_common)\n",
    "    return predictions\n",
    "\n",
    "# For k = 2,4,8 build KNN\n",
    "# For each k, calculate the accuracy\n",
    "# Plot the accuracy vs k\n",
    "k_values = [2, 3, 4, 8, 100]\n",
    "accuracies = []\n",
    "for k in k_values:\n",
    "    predictions = knn(X_train, y_train, X_test, k)\n",
    "    accuracies.append(accuracy(y_test, predictions))\n",
    "plt.plot(k_values, accuracies)\n",
    "plt.xlabel('k')\n",
    "plt.ylabel('Accuracy')\n",
    "plt.title('Accuracy vs k')\n",
    "plt.show()\n"
   ]
  },
  {
   "cell_type": "code",
   "execution_count": null,
   "metadata": {},
   "outputs": [],
   "source": []
  }
 ],
 "metadata": {
  "kernelspec": {
   "display_name": "Python 3",
   "language": "python",
   "name": "python3"
  },
  "language_info": {
   "codemirror_mode": {
    "name": "ipython",
    "version": 3
   },
   "file_extension": ".py",
   "mimetype": "text/x-python",
   "name": "python",
   "nbconvert_exporter": "python",
   "pygments_lexer": "ipython3",
   "version": "3.9.6"
  }
 },
 "nbformat": 4,
 "nbformat_minor": 2
}
