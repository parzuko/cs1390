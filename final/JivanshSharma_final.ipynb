{
 "cells": [
  {
   "cell_type": "markdown",
   "metadata": {},
   "source": [
    "### Part A: Building KNN"
   ]
  },
  {
   "cell_type": "code",
   "execution_count": null,
   "metadata": {},
   "outputs": [],
   "source": [
    "import numpy as np\n",
    "from sklearn.metrics import pairwise_distances\n",
    "from collections import Counter\n",
    "\n",
    "# KNN Code from https://towardsdatascience.com/create-your-own-k-nearest-neighbors-algorithm-in-python-eb7093fc6339\n",
    "def most_common(lst):\n",
    "    return max(set(lst), key=lst.count)\n",
    "def euclidean(point, data):\n",
    "    return np.sqrt(np.sum((point - data)**2, axis=1))\n",
    "class KNeighborsClassifier:\n",
    "    def __init__(self, k=5, dist_metric=euclidean):\n",
    "        self.k = k\n",
    "        self.dist_metric = dist_metric\n",
    "    def fit(self, X_train, y_train):\n",
    "        self.X_train = X_train\n",
    "        self.y_train = y_train\n",
    "    def predict(self, X_test):\n",
    "        neighbors = []\n",
    "        for x in X_test:\n",
    "            distances = self.dist_metric(x, self.X_train)\n",
    "            y_sorted = [y for _, y in sorted(zip(distances, self.y_train))]\n",
    "            neighbors.append(y_sorted[:self.k])\n",
    "        return list(map(most_common, neighbors))\n",
    "    def evaluate(self, X_test, y_test):\n",
    "        y_pred = self.predict(X_test)\n",
    "        accuracy = sum(y_pred == y_test) / len(y_test)\n",
    "        return accuracy\n"
   ]
  },
  {
   "cell_type": "code",
   "execution_count": 25,
   "metadata": {},
   "outputs": [
    {
     "name": "stdout",
     "output_type": "stream",
     "text": [
      "K is  [2, 4, 8, 100]\n",
      "Training error is  [0.0375, 0.054, 0.0665, 0.1985]\n",
      "Validation error is  [0.093, 0.097, 0.104, 0.203]\n",
      "Best k: 2, Test Error: 0.112\n"
     ]
    }
   ],
   "source": [
    "def load_data(filename):\n",
    "    data = np.loadtxt(filename)\n",
    "    X, y = data[:, :-1], data[:, -1]\n",
    "    return X, y\n",
    "\n",
    "def get_error(y_true, y_pred):\n",
    "    return sum(y_true != y_pred) / len(y_true)\n",
    "\n",
    "X_train, y_train = load_data('data/pa1train.txt')\n",
    "X_validate, y_validate = load_data('data/pa1validate.txt')\n",
    "X_test, y_test = load_data('data/pa1test.txt')\n",
    "\n",
    "\n",
    "# Train KNN\n",
    "# testing_ks = [3]\n",
    "ks = [2, 4, 8, 100]\n",
    "k_result, train_error, validate_error = [], [], []\n",
    "\n",
    "for k in ks:\n",
    "    knn = KNeighborsClassifier(k)\n",
    "    knn.fit(X_train, y_train)\n",
    "\n",
    "    train_pred = knn.predict(X_train)\n",
    "    validate_pred = knn.predict(X_validate)\n",
    "\n",
    "    k_result.append(k)\n",
    "    train_error.append(get_error(y_train, train_pred))\n",
    "    validate_error.append(get_error(y_validate, validate_pred))\n",
    "\n",
    "\n",
    "print(\"K is \", k_result)\n",
    "print(\"Training error is \", train_error)\n",
    "print(\"Validation error is \", validate_error)\n",
    "\n",
    "\n",
    "#  Find best k on validation set\n",
    "best_k = ks[np.argmin(validate_error)]\n",
    "\n",
    "best_knn = KNeighborsClassifier(best_k)\n",
    "best_knn.fit(X_train, y_train)\n",
    "\n",
    "test_pred = best_knn.predict(X_test)\n",
    "test_error = get_error(y_test, test_pred)\n",
    "print(f'Best k: {best_k}, Test Error: {test_error}')\n"
   ]
  },
  {
   "cell_type": "markdown",
   "metadata": {},
   "source": [
    "### Part (b): PLotting Time vs Validation Classification"
   ]
  },
  {
   "cell_type": "code",
   "execution_count": 22,
   "metadata": {},
   "outputs": [
    {
     "data": {
      "image/png": "[encoded data removed]",
      "text/plain": [
       "<Figure size 640x480 with 1 Axes>"
      ]
     },
     "metadata": {},
     "output_type": "display_data"
    }
   ],
   "source": [
    "import time\n",
    "import matplotlib.pyplot as plt\n",
    "\n",
    "deltas = []\n",
    "\n",
    "for k in ks:\n",
    "    knn = KNeighborsClassifier(k)\n",
    "    knn.fit(X_train, y_train)\n",
    "\n",
    "    start_time = time.time()\n",
    "    knn.predict(X_validate)\n",
    "    end_time = time.time()\n",
    "\n",
    "    deltas.append(end_time - start_time)\n",
    "\n",
    "# Plotting\n",
    "plt.plot(ks, times, marker='o')\n",
    "plt.xlabel('k')\n",
    "plt.ylabel('T in seconds')\n",
    "plt.title('T(validation set for each k)')\n",
    "plt.show()\n"
   ]
  },
  {
   "cell_type": "markdown",
   "metadata": {},
   "source": [
    "### Part (c): Paremetric or Not: \n",
    "> Not Parametric"
   ]
  },
  {
   "cell_type": "markdown",
   "metadata": {},
   "source": [
    "### Part (d): Knn after Projection"
   ]
  },
  {
   "cell_type": "code",
   "execution_count": 28,
   "metadata": {},
   "outputs": [
    {
     "name": "stdout",
     "output_type": "stream",
     "text": [
      "K is  [3, 5, 9, 11]\n",
      "Training error is  [0.1505, 0.1905, 0.2285, 0.239]\n",
      "Validation error is  [0.309, 0.296, 0.29, 0.308]\n",
      "Best k (Projected): 8, Test Error (Projected): 0.317\n"
     ]
    }
   ],
   "source": [
    "# Projection matrix\n",
    "projections = np.loadtxt('data/projection.txt')\n",
    "\n",
    "# Project data\n",
    "X_train_projected = np.dot(X_train, projections)\n",
    "X_validate_projected = np.dot(X_validate, projections)\n",
    "X_test_projected = np.dot(X_test, projections)\n",
    "\n",
    "projected_ks = [3, 5, 9, 11]\n",
    "k_result_projected, train_error_projected, validate_error_projected = [], [], []\n",
    "\n",
    "for k in projected_ks:\n",
    "    knn = KNeighborsClassifier(k)\n",
    "    knn.fit(X_train_projected, y_train)\n",
    "\n",
    "    train_pred = knn.predict(X_train_projected)\n",
    "    validate_pred = knn.predict(X_validate_projected)\n",
    "\n",
    "    k_result_projected.append(k)\n",
    "    train_error_projected.append(get_error(y_train, train_pred))\n",
    "    validate_error_projected.append(get_error(y_validate, validate_pred))\n",
    "\n",
    "\n",
    "print(\"K is \", k_result_projected)\n",
    "print(\"Training error is \", train_error_projected)\n",
    "print(\"Validation error is \", validate_error_projected)\n",
    "\n",
    "#  Find best k on validation set\n",
    "best_k_projected = ks[np.argmin(validate_error_projected)]\n",
    "\n",
    "best_knn_projected = KNeighborsClassifier(best_k_projected)\n",
    "best_knn.fit(X_train_projected, y_train)\n",
    "\n",
    "test_pred_projected = best_knn.predict(X_test_projected)\n",
    "test_error_projected = get_error(y_test, test_pred_projected)\n",
    "print(f'Best k (Projected): {best_k_projected}, Test Error (Projected): {test_error_projected}')"
   ]
  }
 ],
 "metadata": {
  "kernelspec": {
   "display_name": "Python 3",
   "language": "python",
   "name": "python3"
  },
  "language_info": {
   "codemirror_mode": {
    "name": "ipython",
    "version": 3
   },
   "file_extension": ".py",
   "mimetype": "text/x-python",
   "name": "python",
   "nbconvert_exporter": "python",
   "pygments_lexer": "ipython3",
   "version": "3.9.6"
  }
 },
 "nbformat": 4,
 "nbformat_minor": 2
}
