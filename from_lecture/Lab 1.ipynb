{
  "cells": [
    {
      "cell_type": "markdown",
      "id": "9a57bc20",
      "metadata": {
        "id": "9a57bc20"
      },
      "source": [
        "importing necessary libraries"
      ]
    },
    {
      "cell_type": "code",
      "execution_count": 5,
      "id": "607d3e1f",
      "metadata": {
        "id": "607d3e1f"
      },
      "outputs": [],
      "source": [
        "import pandas as pd\n",
        "import numpy as np\n",
        "import matplotlib.pyplot as plt"
      ]
    },
    {
      "cell_type": "markdown",
      "id": "bdce7caf",
      "metadata": {
        "id": "bdce7caf"
      },
      "source": [
        "take your data as input and split it up into parameters (X) and predictor variable (Y)"
      ]
    },
    {
      "cell_type": "code",
      "execution_count": 6,
      "id": "16c0e1e3",
      "metadata": {
        "id": "16c0e1e3"
      },
      "outputs": [],
      "source": [
        "data = pd.read_csv(\"austin_final.csv\")\n",
        "\n",
        "# the features or the 'x' values of the data\n",
        "# these columns are used to train the model\n",
        "# the last column, i.e, precipitation column\n",
        "# will serve as the label\n",
        "X = data.drop(['PrecipitationSumInches'], axis = 1)\n",
        "X = X.filter(['TempAvgF', 'DewPointAvgF', 'HumidityAvgPercent',\n",
        "                  'SeaLevelPressureAvgInches', 'VisibilityAvgMiles',\n",
        "                  'WindAvgMPH'], axis = 1)\n",
        "\n",
        "# the output or the label.\n",
        "Y = data['PrecipitationSumInches']\n",
        "# reshaping it into a 2-D vector\n",
        "Y = Y.values.reshape(-1, 1)"
      ]
    },
    {
      "cell_type": "code",
      "source": [
        "Y.shape"
      ],
      "metadata": {
        "id": "ByWANDBbX699",
        "outputId": "48daf49d-a6b9-434e-a622-34fbea527345",
        "colab": {
          "base_uri": "https://localhost:8080/"
        }
      },
      "id": "ByWANDBbX699",
      "execution_count": null,
      "outputs": [
        {
          "output_type": "execute_result",
          "data": {
            "text/plain": [
              "(1319, 1)"
            ]
          },
          "metadata": {},
          "execution_count": 3
        }
      ]
    },
    {
      "cell_type": "code",
      "source": [
        "X.shape"
      ],
      "metadata": {
        "id": "KwWmzrQqX8K5",
        "outputId": "285df254-cfe4-47b0-f36b-6c86dd838a21",
        "colab": {
          "base_uri": "https://localhost:8080/"
        }
      },
      "id": "KwWmzrQqX8K5",
      "execution_count": null,
      "outputs": [
        {
          "output_type": "execute_result",
          "data": {
            "text/plain": [
              "(1319, 6)"
            ]
          },
          "metadata": {},
          "execution_count": 4
        }
      ]
    },
    {
      "cell_type": "markdown",
      "id": "506229cd",
      "metadata": {
        "id": "506229cd"
      },
      "source": [
        "Here X is 1319x6 data matrix, that has features such as TempAvg, DewPoint, Humidity. Each row of X is a day in Austin.\n",
        "\n",
        "Y is the target output, which is rainfall in inches for that day."
      ]
    },
    {
      "cell_type": "code",
      "execution_count": null,
      "id": "6326207d",
      "metadata": {
        "id": "6326207d"
      },
      "outputs": [],
      "source": [
        "# check what X and Y look like and what type they are. Feel free to do this and mess around throughout the lab so you are comfortable with what we are doing."
      ]
    },
    {
      "cell_type": "markdown",
      "id": "53559374",
      "metadata": {
        "id": "53559374"
      },
      "source": [
        "The next four cells are data plotting to understanding the data -- this should be done before the ML fit is done"
      ]
    },
    {
      "cell_type": "code",
      "execution_count": null,
      "id": "ab8a17ab",
      "metadata": {
        "id": "ab8a17ab"
      },
      "outputs": [],
      "source": [
        "day_index = 798 #this will be colored red in next plot\n",
        "days = [i for i in range(Y.size)]"
      ]
    },
    {
      "cell_type": "code",
      "execution_count": null,
      "id": "2e279566",
      "metadata": {
        "id": "2e279566",
        "outputId": "e65053ca-1656-4cb8-90c2-143bcaa944d3"
      },
      "outputs": [
        {
          "data": {
            "text/plain": [
              "<matplotlib.collections.PathCollection at 0x1df8a345250>"
            ]
          },
          "execution_count": 5,
          "metadata": {},
          "output_type": "execute_result"
        },
        {
          "data": {
            "image/png": "[encoded data removed]",
            "text/plain": [
              "<Figure size 640x480 with 1 Axes>"
            ]
          },
          "metadata": {},
          "output_type": "display_data"
        }
      ],
      "source": [
        "# plt.scatter(days, Y, color = 'g')\n",
        "plt.scatter(days, Y)\n",
        "plt.scatter(days[day_index], Y[day_index], color ='r')"
      ]
    },
    {
      "cell_type": "code",
      "execution_count": null,
      "id": "adbb7cc1",
      "metadata": {
        "id": "adbb7cc1",
        "outputId": "ac7844bb-5545-41f1-e611-646b85f6a59c"
      },
      "outputs": [
        {
          "data": {
            "text/html": [
              "<div>\n",
              "<style scoped>\n",
              "    .dataframe tbody tr th:only-of-type {\n",
              "        vertical-align: middle;\n",
              "    }\n",
              "\n",
              "    .dataframe tbody tr th {\n",
              "        vertical-align: top;\n",
              "    }\n",
              "\n",
              "    .dataframe thead th {\n",
              "        text-align: right;\n",
              "    }\n",
              "</style>\n",
              "<table border=\"1\" class=\"dataframe\">\n",
              "  <thead>\n",
              "    <tr style=\"text-align: right;\">\n",
              "      <th></th>\n",
              "      <th>TempAvgF</th>\n",
              "      <th>DewPointAvgF</th>\n",
              "      <th>HumidityAvgPercent</th>\n",
              "      <th>SeaLevelPressureAvgInches</th>\n",
              "      <th>VisibilityAvgMiles</th>\n",
              "      <th>WindAvgMPH</th>\n",
              "    </tr>\n",
              "  </thead>\n",
              "  <tbody>\n",
              "    <tr>\n",
              "      <th>TempAvgF</th>\n",
              "      <td>1.000000</td>\n",
              "      <td>0.837222</td>\n",
              "      <td>0.022763</td>\n",
              "      <td>-0.138524</td>\n",
              "      <td>0.148463</td>\n",
              "      <td>0.034267</td>\n",
              "    </tr>\n",
              "    <tr>\n",
              "      <th>DewPointAvgF</th>\n",
              "      <td>0.837222</td>\n",
              "      <td>1.000000</td>\n",
              "      <td>0.450622</td>\n",
              "      <td>0.101505</td>\n",
              "      <td>0.056602</td>\n",
              "      <td>0.038257</td>\n",
              "    </tr>\n",
              "    <tr>\n",
              "      <th>HumidityAvgPercent</th>\n",
              "      <td>0.022763</td>\n",
              "      <td>0.450622</td>\n",
              "      <td>1.000000</td>\n",
              "      <td>0.069634</td>\n",
              "      <td>-0.449230</td>\n",
              "      <td>-0.000472</td>\n",
              "    </tr>\n",
              "    <tr>\n",
              "      <th>SeaLevelPressureAvgInches</th>\n",
              "      <td>-0.138524</td>\n",
              "      <td>0.101505</td>\n",
              "      <td>0.069634</td>\n",
              "      <td>1.000000</td>\n",
              "      <td>0.260125</td>\n",
              "      <td>0.046604</td>\n",
              "    </tr>\n",
              "    <tr>\n",
              "      <th>VisibilityAvgMiles</th>\n",
              "      <td>0.148463</td>\n",
              "      <td>0.056602</td>\n",
              "      <td>-0.449230</td>\n",
              "      <td>0.260125</td>\n",
              "      <td>1.000000</td>\n",
              "      <td>0.026522</td>\n",
              "    </tr>\n",
              "    <tr>\n",
              "      <th>WindAvgMPH</th>\n",
              "      <td>0.034267</td>\n",
              "      <td>0.038257</td>\n",
              "      <td>-0.000472</td>\n",
              "      <td>0.046604</td>\n",
              "      <td>0.026522</td>\n",
              "      <td>1.000000</td>\n",
              "    </tr>\n",
              "  </tbody>\n",
              "</table>\n",
              "</div>"
            ],
            "text/plain": [
              "                           TempAvgF  DewPointAvgF  HumidityAvgPercent  \\\n",
              "TempAvgF                   1.000000      0.837222            0.022763   \n",
              "DewPointAvgF               0.837222      1.000000            0.450622   \n",
              "HumidityAvgPercent         0.022763      0.450622            1.000000   \n",
              "SeaLevelPressureAvgInches -0.138524      0.101505            0.069634   \n",
              "VisibilityAvgMiles         0.148463      0.056602           -0.449230   \n",
              "WindAvgMPH                 0.034267      0.038257           -0.000472   \n",
              "\n",
              "                           SeaLevelPressureAvgInches  VisibilityAvgMiles  \\\n",
              "TempAvgF                                   -0.138524            0.148463   \n",
              "DewPointAvgF                                0.101505            0.056602   \n",
              "HumidityAvgPercent                          0.069634           -0.449230   \n",
              "SeaLevelPressureAvgInches                   1.000000            0.260125   \n",
              "VisibilityAvgMiles                          0.260125            1.000000   \n",
              "WindAvgMPH                                  0.046604            0.026522   \n",
              "\n",
              "                           WindAvgMPH  \n",
              "TempAvgF                     0.034267  \n",
              "DewPointAvgF                 0.038257  \n",
              "HumidityAvgPercent          -0.000472  \n",
              "SeaLevelPressureAvgInches    0.046604  \n",
              "VisibilityAvgMiles           0.026522  \n",
              "WindAvgMPH                   1.000000  "
            ]
          },
          "execution_count": 6,
          "metadata": {},
          "output_type": "execute_result"
        }
      ],
      "source": [
        "X.corr()"
      ]
    },
    {
      "cell_type": "code",
      "execution_count": null,
      "id": "cf43a99d",
      "metadata": {
        "id": "cf43a99d",
        "outputId": "7b6e8fa4-2dd7-480e-92b3-b8b5be456f0b"
      },
      "outputs": [
        {
          "data": {
            "text/plain": [
              "<mpl_toolkits.mplot3d.art3d.Path3DCollection at 0x1df8a297290>"
            ]
          },
          "execution_count": 7,
          "metadata": {},
          "output_type": "execute_result"
        },
        {
          "data": {
            "image/png": "[encoded data removed]",
            "text/plain": [
              "<Figure size 640x480 with 1 Axes>"
            ]
          },
          "metadata": {},
          "output_type": "display_data"
        }
      ],
      "source": [
        "fig = plt.figure()\n",
        "ax = fig.add_subplot(projection='3d')\n",
        "ax.scatter(X[X.columns.values[0]], X[X.columns.values[2]],Y)"
      ]
    },
    {
      "cell_type": "markdown",
      "id": "aad33ab9",
      "metadata": {
        "id": "aad33ab9"
      },
      "source": [
        "Used random permutation of rows to split data matrix X into training, validation, test sets. Can also be done using pandas or other methods."
      ]
    },
    {
      "cell_type": "code",
      "execution_count": null,
      "id": "0a11c395",
      "metadata": {
        "id": "0a11c395",
        "outputId": "a199c8f8-4b7b-4a59-fda7-01614d324ddf"
      },
      "outputs": [
        {
          "data": {
            "text/plain": [
              "pandas.core.frame.DataFrame"
            ]
          },
          "execution_count": 8,
          "metadata": {},
          "output_type": "execute_result"
        }
      ],
      "source": [
        "type(X)"
      ]
    },
    {
      "cell_type": "code",
      "execution_count": 7,
      "id": "de61763e",
      "metadata": {
        "id": "de61763e"
      },
      "outputs": [],
      "source": [
        "from sklearn.model_selection import train_test_split\n",
        "\n",
        "X_train, X_temp, Y_train, Y_temp = train_test_split(X.to_numpy(), Y, test_size=0.3)\n",
        "# 70% training and 30% for testing and vailidation\n",
        "# X is a pandas data frame so we convert it to a numpy array for inu\n",
        "\n",
        "X_test, X_val, Y_test, Y_val = train_test_split(X_temp, Y_temp, test_size=0.5)\n",
        "# we split the temporary samples from the dataset into testing and validation halves"
      ]
    },
    {
      "cell_type": "markdown",
      "id": "5c4512d6",
      "metadata": {
        "id": "5c4512d6"
      },
      "source": [
        "Now write a function that can do this, using only numpy"
      ]
    },
    {
      "cell_type": "code",
      "execution_count": 8,
      "id": "12ed413a",
      "metadata": {
        "id": "12ed413a"
      },
      "outputs": [],
      "source": [
        "# get the train\n",
        "\n",
        "def train_val_test_split(X, Y): # split up the dataset into a training and testing set.\n",
        "    p = np.random.permutation(len(Y))\n",
        "    tr = np.floor(len(Y)*0.7).astype('int')\n",
        "    te = np.floor(len(Y)*0.8).astype('int')\n",
        "    X_train = X[p[:tr],:]\n",
        "    Y_train = Y[p[:tr]]\n",
        "    X_val = X[p[tr+1:te],:]\n",
        "    Y_val = Y[p[tr+1:te]]\n",
        "    X_test = X[p[te+1:],:]\n",
        "    Y_test = Y[p[te+1:]]\n",
        "    return X_train, Y_train, X_val, Y_val, X_test, Y_test"
      ]
    },
    {
      "cell_type": "code",
      "execution_count": null,
      "id": "9fb6b472",
      "metadata": {
        "id": "9fb6b472"
      },
      "outputs": [],
      "source": [
        "#X is a pandas data frame, that has to be converted into a numpy array\n",
        "X_train, Y_train, X_val, Y_val, X_test, Y_test = train_val_test_split(X.to_numpy(),Y)"
      ]
    },
    {
      "cell_type": "code",
      "execution_count": 9,
      "id": "9d288601",
      "metadata": {
        "id": "9d288601"
      },
      "outputs": [],
      "source": [
        "from sklearn.linear_model import LinearRegression"
      ]
    },
    {
      "cell_type": "code",
      "execution_count": 10,
      "id": "5ca2f6b2",
      "metadata": {
        "id": "5ca2f6b2"
      },
      "outputs": [],
      "source": [
        "LR = LinearRegression()"
      ]
    },
    {
      "cell_type": "code",
      "execution_count": 11,
      "id": "0276f38f",
      "metadata": {
        "id": "0276f38f",
        "outputId": "a72fd1d5-7a2b-4621-9046-a38b60634875",
        "colab": {
          "base_uri": "https://localhost:8080/",
          "height": 74
        }
      },
      "outputs": [
        {
          "output_type": "execute_result",
          "data": {
            "text/plain": [
              "LinearRegression()"
            ],
            "text/html": [
              "<style>#sk-container-id-1 {color: black;background-color: white;}#sk-container-id-1 pre{padding: 0;}#sk-container-id-1 div.sk-toggleable {background-color: white;}#sk-container-id-1 label.sk-toggleable__label {cursor: pointer;display: block;width: 100%;margin-bottom: 0;padding: 0.3em;box-sizing: border-box;text-align: center;}#sk-container-id-1 label.sk-toggleable__label-arrow:before {content: \"▸\";float: left;margin-right: 0.25em;color: #696969;}#sk-container-id-1 label.sk-toggleable__label-arrow:hover:before {color: black;}#sk-container-id-1 div.sk-estimator:hover label.sk-toggleable__label-arrow:before {color: black;}#sk-container-id-1 div.sk-toggleable__content {max-height: 0;max-width: 0;overflow: hidden;text-align: left;background-color: #f0f8ff;}#sk-container-id-1 div.sk-toggleable__content pre {margin: 0.2em;color: black;border-radius: 0.25em;background-color: #f0f8ff;}#sk-container-id-1 input.sk-toggleable__control:checked~div.sk-toggleable__content {max-height: 200px;max-width: 100%;overflow: auto;}#sk-container-id-1 input.sk-toggleable__control:checked~label.sk-toggleable__label-arrow:before {content: \"▾\";}#sk-container-id-1 div.sk-estimator input.sk-toggleable__control:checked~label.sk-toggleable__label {background-color: #d4ebff;}#sk-container-id-1 div.sk-label input.sk-toggleable__control:checked~label.sk-toggleable__label {background-color: #d4ebff;}#sk-container-id-1 input.sk-hidden--visually {border: 0;clip: rect(1px 1px 1px 1px);clip: rect(1px, 1px, 1px, 1px);height: 1px;margin: -1px;overflow: hidden;padding: 0;position: absolute;width: 1px;}#sk-container-id-1 div.sk-estimator {font-family: monospace;background-color: #f0f8ff;border: 1px dotted black;border-radius: 0.25em;box-sizing: border-box;margin-bottom: 0.5em;}#sk-container-id-1 div.sk-estimator:hover {background-color: #d4ebff;}#sk-container-id-1 div.sk-parallel-item::after {content: \"\";width: 100%;border-bottom: 1px solid gray;flex-grow: 1;}#sk-container-id-1 div.sk-label:hover label.sk-toggleable__label {background-color: #d4ebff;}#sk-container-id-1 div.sk-serial::before {content: \"\";position: absolute;border-left: 1px solid gray;box-sizing: border-box;top: 0;bottom: 0;left: 50%;z-index: 0;}#sk-container-id-1 div.sk-serial {display: flex;flex-direction: column;align-items: center;background-color: white;padding-right: 0.2em;padding-left: 0.2em;position: relative;}#sk-container-id-1 div.sk-item {position: relative;z-index: 1;}#sk-container-id-1 div.sk-parallel {display: flex;align-items: stretch;justify-content: center;background-color: white;position: relative;}#sk-container-id-1 div.sk-item::before, #sk-container-id-1 div.sk-parallel-item::before {content: \"\";position: absolute;border-left: 1px solid gray;box-sizing: border-box;top: 0;bottom: 0;left: 50%;z-index: -1;}#sk-container-id-1 div.sk-parallel-item {display: flex;flex-direction: column;z-index: 1;position: relative;background-color: white;}#sk-container-id-1 div.sk-parallel-item:first-child::after {align-self: flex-end;width: 50%;}#sk-container-id-1 div.sk-parallel-item:last-child::after {align-self: flex-start;width: 50%;}#sk-container-id-1 div.sk-parallel-item:only-child::after {width: 0;}#sk-container-id-1 div.sk-dashed-wrapped {border: 1px dashed gray;margin: 0 0.4em 0.5em 0.4em;box-sizing: border-box;padding-bottom: 0.4em;background-color: white;}#sk-container-id-1 div.sk-label label {font-family: monospace;font-weight: bold;display: inline-block;line-height: 1.2em;}#sk-container-id-1 div.sk-label-container {text-align: center;}#sk-container-id-1 div.sk-container {/* jupyter's `normalize.less` sets `[hidden] { display: none; }` but bootstrap.min.css set `[hidden] { display: none !important; }` so we also need the `!important` here to be able to override the default hidden behavior on the sphinx rendered scikit-learn.org. See: https://github.com/scikit-learn/scikit-learn/issues/21755 */display: inline-block !important;position: relative;}#sk-container-id-1 div.sk-text-repr-fallback {display: none;}</style><div id=\"sk-container-id-1\" class=\"sk-top-container\"><div class=\"sk-text-repr-fallback\"><pre>LinearRegression()</pre><b>In a Jupyter environment, please rerun this cell to show the HTML representation or trust the notebook. <br />On GitHub, the HTML representation is unable to render, please try loading this page with nbviewer.org.</b></div><div class=\"sk-container\" hidden><div class=\"sk-item\"><div class=\"sk-estimator sk-toggleable\"><input class=\"sk-toggleable__control sk-hidden--visually\" id=\"sk-estimator-id-1\" type=\"checkbox\" checked><label for=\"sk-estimator-id-1\" class=\"sk-toggleable__label sk-toggleable__label-arrow\">LinearRegression</label><div class=\"sk-toggleable__content\"><pre>LinearRegression()</pre></div></div></div></div></div>"
            ]
          },
          "metadata": {},
          "execution_count": 11
        }
      ],
      "source": [
        "# use sklearn to fit training data matrix to training output\n",
        "LR.fit(X_train,Y_train)"
      ]
    },
    {
      "cell_type": "code",
      "execution_count": 12,
      "id": "62aa754e",
      "metadata": {
        "id": "62aa754e",
        "outputId": "ad264128-fd94-4e9f-c5f8-bdf7fda99c47",
        "colab": {
          "base_uri": "https://localhost:8080/"
        }
      },
      "outputs": [
        {
          "output_type": "stream",
          "name": "stdout",
          "text": [
            "[0.7777065] [[-0.00881735  0.01030631  0.00166217  0.00279412 -0.09590265  0.01324062]]\n"
          ]
        }
      ],
      "source": [
        "# These are the thetas that are result of the above fit\n",
        "print(LR.intercept_,LR.coef_)"
      ]
    },
    {
      "cell_type": "code",
      "execution_count": 13,
      "id": "7bbdbe23",
      "metadata": {
        "id": "7bbdbe23"
      },
      "outputs": [],
      "source": [
        "#Use sklearn predict function to predict output for validation data matrix\n",
        "Yhat_skl_val = LR.predict(X_val)"
      ]
    },
    {
      "cell_type": "code",
      "execution_count": 14,
      "id": "7003c026",
      "metadata": {
        "id": "7003c026",
        "outputId": "0dc43f09-48e0-44ce-8e97-dfb332a159fc",
        "colab": {
          "base_uri": "https://localhost:8080/"
        }
      },
      "outputs": [
        {
          "output_type": "stream",
          "name": "stdout",
          "text": [
            "0.1829174514641075 0.1091367191549433\n"
          ]
        }
      ],
      "source": [
        "#This is the Mean Square error -- insample (error in that data used for fitting) and outsample (error in the data not used for fitting)\n",
        "E_in = np.mean((Y_train-LR.predict(X_train))**2)\n",
        "E_out = np.mean((Y_val-LR.predict(X_val))**2)\n",
        "print(E_in,E_out)\n"
      ]
    },
    {
      "cell_type": "markdown",
      "id": "789e3881",
      "metadata": {
        "id": "789e3881"
      },
      "source": [
        "\n",
        "$$\n",
        "\\verb|pinv_theta| = (X_{\\text{{train}}}^T X_{\\text{{train}}})^{-1} X_{\\text{{train}}}^T Y_{\\text{{train}}}\n",
        "$$"
      ]
    },
    {
      "cell_type": "markdown",
      "id": "5821e9f2",
      "metadata": {
        "id": "5821e9f2"
      },
      "source": [
        "$\\verb|pinv_theta|$ represents the parameters of a linear regression model that minimizes the mean square error between the model’s predictions and the actual outputs."
      ]
    },
    {
      "cell_type": "code",
      "execution_count": 15,
      "id": "3120e188",
      "metadata": {
        "id": "3120e188"
      },
      "outputs": [],
      "source": [
        "#Here we are using the psuedo inverse/analytical method to get an analytical solution for minimizing mean square error\n",
        "\n",
        "pinv_theta = np.matmul(np.matmul(np.linalg.inv(np.matmul(X_train.transpose(),X_train)),X_train.transpose()),Y_train)\n",
        "#                                              From Ab: pinv_theta = (A^T A)^{-1}A^{T}b  (moore-penrose pseudoinverse)"
      ]
    },
    {
      "cell_type": "code",
      "execution_count": 16,
      "id": "e3841fb9",
      "metadata": {
        "id": "e3841fb9"
      },
      "outputs": [],
      "source": [
        "# For the linear regression model this is the predicted output\n",
        "def predict(X, theta):\n",
        "    return np.matmul(X,theta)"
      ]
    },
    {
      "cell_type": "code",
      "execution_count": 17,
      "id": "231aebc5",
      "metadata": {
        "id": "231aebc5",
        "outputId": "e2dce483-66c5-4973-8ba0-652519762d2a",
        "colab": {
          "base_uri": "https://localhost:8080/"
        }
      },
      "outputs": [
        {
          "output_type": "execute_result",
          "data": {
            "text/plain": [
              "array([[-0.00465278],\n",
              "       [ 0.00618287],\n",
              "       [ 0.00415276],\n",
              "       [ 0.01989247],\n",
              "       [-0.09214848],\n",
              "       [ 0.01384736]])"
            ]
          },
          "metadata": {},
          "execution_count": 17
        }
      ],
      "source": [
        "pinv_theta"
      ]
    },
    {
      "cell_type": "code",
      "execution_count": 18,
      "id": "2a7a5f89",
      "metadata": {
        "id": "2a7a5f89"
      },
      "outputs": [],
      "source": [
        "#predicting output using the pinv_theta from above\n",
        "\n",
        "Yhat_pinv_val = predict(X_val,pinv_theta)"
      ]
    },
    {
      "cell_type": "code",
      "execution_count": 19,
      "id": "39f20875",
      "metadata": {
        "scrolled": false,
        "id": "39f20875",
        "outputId": "68387ebf-879b-4052-f77e-c3a5a500d5b2",
        "colab": {
          "base_uri": "https://localhost:8080/",
          "height": 447
        }
      },
      "outputs": [
        {
          "output_type": "execute_result",
          "data": {
            "text/plain": [
              "[<matplotlib.lines.Line2D at 0x7e61e6fc4e80>]"
            ]
          },
          "metadata": {},
          "execution_count": 19
        },
        {
          "output_type": "display_data",
          "data": {
            "text/plain": [
              "<Figure size 640x480 with 1 Axes>"
            ],
            "image/png": "[encoded data removed]"
          },
          "metadata": {}
        }
      ],
      "source": [
        "plt.plot(Yhat_skl_val,'.')\n",
        "plt.plot(Yhat_pinv_val,'.')\n",
        "# plt.plot(hatY_val,'.')\n",
        "#plt.plot(hatY_aug_val,'.')"
      ]
    },
    {
      "cell_type": "code",
      "execution_count": 20,
      "id": "ba3880a4",
      "metadata": {
        "id": "ba3880a4",
        "outputId": "6dba5b08-18d0-47b3-91ee-b811b4f19ff9",
        "colab": {
          "base_uri": "https://localhost:8080/"
        }
      },
      "outputs": [
        {
          "output_type": "stream",
          "name": "stdout",
          "text": [
            "0.1834612519906787 0.10818596853041873\n"
          ]
        }
      ],
      "source": [
        "#E_in and E_out for the psuedo inverse method\n",
        "E_in = np.mean((Y_train-predict(X_train,pinv_theta))**2)\n",
        "E_out = np.mean((Y_val-Yhat_pinv_val)**2)\n",
        "print(E_in,E_out)"
      ]
    },
    {
      "cell_type": "markdown",
      "id": "cc0afd71",
      "metadata": {
        "id": "cc0afd71"
      },
      "source": [
        "Above data matrix does not have a \"1\" column, so the intercept (theta_0) can not be modelled. Below augment X by adding a one column"
      ]
    },
    {
      "cell_type": "code",
      "execution_count": 21,
      "id": "1b9276fc",
      "metadata": {
        "id": "1b9276fc"
      },
      "outputs": [],
      "source": [
        "X_aug_train =  np.c_[X_train,np.ones(len(Y_train))]\n",
        "X_aug_val =  np.c_[X_val,np.ones(len(Y_val))]"
      ]
    },
    {
      "cell_type": "markdown",
      "id": "e91603c3",
      "metadata": {
        "id": "e91603c3"
      },
      "source": [
        "$$(X_{at}^{T}X_{at})^{-1}X_{at}^{T}Y_{t}$$"
      ]
    },
    {
      "cell_type": "code",
      "execution_count": 24,
      "id": "16623afc",
      "metadata": {
        "id": "16623afc"
      },
      "outputs": [],
      "source": [
        "pinv_aug_theta = np.matmul(np.matmul(np.linalg.inv(np.matmul(X_aug_train.transpose(),X_aug_train)),X_aug_train.transpose()),Y_train)\n",
        "# pinv_aug_theta = np.linalg.inv(X_aug_train.T @ X_aug_train) @ X_aug_train.T @ Y_train\n",
        "                                                # }"
      ]
    },
    {
      "cell_type": "markdown",
      "id": "22dad352",
      "metadata": {
        "id": "22dad352"
      },
      "source": []
    },
    {
      "cell_type": "code",
      "source": [],
      "metadata": {
        "id": "kBxoBPLst1W2"
      },
      "id": "kBxoBPLst1W2",
      "execution_count": null,
      "outputs": []
    },
    {
      "cell_type": "code",
      "execution_count": 26,
      "id": "17068257",
      "metadata": {
        "id": "17068257"
      },
      "outputs": [],
      "source": [
        "Yhat_pinv_aug_val = predict(X_aug_val,pinv_aug_theta)"
      ]
    },
    {
      "cell_type": "code",
      "source": [
        "plt.plot(Yhat_skl_val,'.')\n",
        "plt.plot(Yhat_pinv_aug_val,'.')\n",
        "# perfectly matches the Y_hats from sk_learn's algorithm after we model the intercept as well"
      ],
      "metadata": {
        "colab": {
          "base_uri": "https://localhost:8080/",
          "height": 448
        },
        "id": "dveEVjLkuhk3",
        "outputId": "de5a6a08-f408-4bf6-df7c-f73f5a2fc9bf"
      },
      "id": "dveEVjLkuhk3",
      "execution_count": 29,
      "outputs": [
        {
          "output_type": "execute_result",
          "data": {
            "text/plain": [
              "[<matplotlib.lines.Line2D at 0x7e61e2bc9270>]"
            ]
          },
          "metadata": {},
          "execution_count": 29
        },
        {
          "output_type": "display_data",
          "data": {
            "text/plain": [
              "<Figure size 640x480 with 1 Axes>"
            ],
            "image/png": "[encoded data removed]"
          },
          "metadata": {}
        }
      ]
    },
    {
      "cell_type": "code",
      "execution_count": null,
      "id": "158fb538",
      "metadata": {
        "id": "158fb538",
        "outputId": "a1cc2f24-c69f-44e3-d0ca-07d5d7522540"
      },
      "outputs": [
        {
          "name": "stdout",
          "output_type": "stream",
          "text": [
            "0.11202966791224989 0.29738366417031165\n"
          ]
        }
      ],
      "source": [
        "#E_in and E_out for the psuedo inverse method\n",
        "E_in = np.mean((Y_train-predict(X_aug_train,pinv_aug_theta))**2)\n",
        "E_out = np.mean((Y_val-Yhat_pinv_aug_val)**2)\n",
        "print(E_in,E_out)"
      ]
    },
    {
      "cell_type": "code",
      "execution_count": null,
      "id": "d9ea8c52",
      "metadata": {
        "id": "d9ea8c52"
      },
      "outputs": [],
      "source": [
        "#Initializing theta -- could be all zero or random numbers with mean zero\n",
        "def init(X,zeros=True):\n",
        "    n = X.shape[1]\n",
        "    if zeros:\n",
        "        theta = np.zeros((n,1))\n",
        "    else:\n",
        "        theta = np.random.rand(n,1)-0.5\n",
        "        theta[-1] = 0\n",
        "    return theta"
      ]
    },
    {
      "cell_type": "code",
      "execution_count": null,
      "id": "5b8df354",
      "metadata": {
        "id": "5b8df354"
      },
      "outputs": [],
      "source": [
        "theta = init(X_train,zeros=False)"
      ]
    },
    {
      "cell_type": "code",
      "execution_count": null,
      "id": "b59d0e6b",
      "metadata": {
        "id": "b59d0e6b",
        "outputId": "124bf1f8-e49f-41c3-b702-8e4ae201c611"
      },
      "outputs": [
        {
          "data": {
            "text/plain": [
              "array([[-66.52924767],\n",
              "       [-50.72537248],\n",
              "       [-64.77280721],\n",
              "       [-51.62306101],\n",
              "       [-64.70732344],\n",
              "       [-64.47495624],\n",
              "       [-63.39843005],\n",
              "       [-65.80060676],\n",
              "       [-55.86265793],\n",
              "       [-55.36388335],\n",
              "       [-66.26747378],\n",
              "       [-55.44543773],\n",
              "       [-58.30494741],\n",
              "       [-59.41017881],\n",
              "       [-66.11127498],\n",
              "       [-65.67548923],\n",
              "       [-68.62144968],\n",
              "       [-63.89342335],\n",
              "       [-59.18382472],\n",
              "       [-68.01106315],\n",
              "       [-67.11110896],\n",
              "       [-64.98648428],\n",
              "       [-65.28433095],\n",
              "       [-65.01703544],\n",
              "       [-61.42211513],\n",
              "       [-53.01165581],\n",
              "       [-65.11906462],\n",
              "       [-53.81877991],\n",
              "       [-67.06690361],\n",
              "       [-57.36669057],\n",
              "       [-65.8110117 ],\n",
              "       [-65.39856673],\n",
              "       [-67.72291564],\n",
              "       [-58.87294469],\n",
              "       [-63.34081623],\n",
              "       [-62.23946142],\n",
              "       [-68.12564019],\n",
              "       [-67.38126375],\n",
              "       [-53.09039135],\n",
              "       [-40.21518476],\n",
              "       [-53.9179052 ],\n",
              "       [-64.43326022],\n",
              "       [-56.72658842],\n",
              "       [-52.45214953],\n",
              "       [-60.64244367],\n",
              "       [-65.68860503],\n",
              "       [-65.55727515],\n",
              "       [-64.31323601],\n",
              "       [-65.35260414],\n",
              "       [-56.72415487],\n",
              "       [-58.76928765],\n",
              "       [-62.75760465],\n",
              "       [-64.83329318],\n",
              "       [-55.67763524],\n",
              "       [-67.43921883],\n",
              "       [-68.2547976 ],\n",
              "       [-64.55860473],\n",
              "       [-66.74604673],\n",
              "       [-64.7777034 ],\n",
              "       [-62.84162423],\n",
              "       [-63.66084204],\n",
              "       [-50.51463735],\n",
              "       [-66.04266253],\n",
              "       [-52.22481838],\n",
              "       [-65.91838434],\n",
              "       [-50.38436092],\n",
              "       [-57.40574573],\n",
              "       [-68.05820634],\n",
              "       [-49.67047405],\n",
              "       [-63.53295636],\n",
              "       [-67.10029707],\n",
              "       [-69.26105194],\n",
              "       [-57.8519424 ],\n",
              "       [-65.80834526],\n",
              "       [-54.90296827],\n",
              "       [-67.85984769],\n",
              "       [-52.39809891],\n",
              "       [-53.30196583],\n",
              "       [-65.61265493],\n",
              "       [-62.09174932],\n",
              "       [-66.55867982],\n",
              "       [-62.02577607],\n",
              "       [-65.57138282],\n",
              "       [-64.82680097],\n",
              "       [-54.9677144 ],\n",
              "       [-58.39358093],\n",
              "       [-53.28404067],\n",
              "       [-61.14123729],\n",
              "       [-62.27864373],\n",
              "       [-60.90623599],\n",
              "       [-63.8935062 ],\n",
              "       [-57.62924681],\n",
              "       [-55.03710661],\n",
              "       [-66.21305174],\n",
              "       [-59.63218548],\n",
              "       [-48.02418077],\n",
              "       [-68.05046784],\n",
              "       [-66.91486326],\n",
              "       [-62.29085861],\n",
              "       [-66.60422718],\n",
              "       [-49.97891022],\n",
              "       [-40.82767596],\n",
              "       [-64.93990474],\n",
              "       [-67.41780916],\n",
              "       [-66.76912668],\n",
              "       [-64.47260332],\n",
              "       [-55.46724566],\n",
              "       [-65.41795646],\n",
              "       [-69.50156458],\n",
              "       [-65.25741683],\n",
              "       [-64.41294641],\n",
              "       [-63.50819774],\n",
              "       [-55.29414559],\n",
              "       [-55.44179181],\n",
              "       [-63.21172868],\n",
              "       [-59.8274966 ],\n",
              "       [-68.75258031],\n",
              "       [-53.47596252],\n",
              "       [-59.59754573],\n",
              "       [-62.34204597],\n",
              "       [-55.38404256],\n",
              "       [-57.92276564],\n",
              "       [-64.31784384],\n",
              "       [-52.71729366],\n",
              "       [-59.76217793],\n",
              "       [-64.46351912],\n",
              "       [-67.61078864],\n",
              "       [-66.05046262],\n",
              "       [-46.13539522],\n",
              "       [-59.28901843],\n",
              "       [-59.87256687],\n",
              "       [-58.53234425],\n",
              "       [-50.68830565],\n",
              "       [-66.54915453],\n",
              "       [-53.34724814],\n",
              "       [-65.75186345],\n",
              "       [-66.70565428],\n",
              "       [-64.17218582],\n",
              "       [-53.9315594 ],\n",
              "       [-50.90041833],\n",
              "       [-62.07907432],\n",
              "       [-61.16137543],\n",
              "       [-59.33641604],\n",
              "       [-63.12930334],\n",
              "       [-45.71934276],\n",
              "       [-65.90521125],\n",
              "       [-52.13937694],\n",
              "       [-58.8848799 ],\n",
              "       [-60.22738955],\n",
              "       [-67.2010101 ],\n",
              "       [-62.29894266],\n",
              "       [-48.69041101],\n",
              "       [-59.48014953],\n",
              "       [-51.14624258],\n",
              "       [-45.43383812],\n",
              "       [-66.48702812],\n",
              "       [-57.70669992],\n",
              "       [-65.50428196],\n",
              "       [-65.42087532],\n",
              "       [-58.02367979],\n",
              "       [-61.54497317],\n",
              "       [-54.21984517],\n",
              "       [-47.92417583],\n",
              "       [-66.46763839],\n",
              "       [-61.03822055],\n",
              "       [-46.95949454],\n",
              "       [-58.6745476 ],\n",
              "       [-60.77467066],\n",
              "       [-45.33522788],\n",
              "       [-55.79501427],\n",
              "       [-52.23794705],\n",
              "       [-61.19499997],\n",
              "       [-65.92888041],\n",
              "       [-66.88884577],\n",
              "       [-58.04228546],\n",
              "       [-61.40410754],\n",
              "       [-66.24610423],\n",
              "       [-57.88807688],\n",
              "       [-65.23823691],\n",
              "       [-55.78761703],\n",
              "       [-66.06717103],\n",
              "       [-64.84284591],\n",
              "       [-64.20012355],\n",
              "       [-58.67834195],\n",
              "       [-68.22789635],\n",
              "       [-66.36791312],\n",
              "       [-65.90890987],\n",
              "       [-66.81451276],\n",
              "       [-60.82077498],\n",
              "       [-67.1266771 ],\n",
              "       [-62.34898357],\n",
              "       [-69.56446046],\n",
              "       [-60.53290915],\n",
              "       [-67.92131043],\n",
              "       [-58.20193875],\n",
              "       [-65.92503337],\n",
              "       [-60.43168316],\n",
              "       [-54.74005027],\n",
              "       [-59.30727615],\n",
              "       [-57.36068804],\n",
              "       [-52.65961427],\n",
              "       [-59.30211725],\n",
              "       [-62.98372776],\n",
              "       [-70.07856181],\n",
              "       [-65.40407118],\n",
              "       [-57.8276439 ],\n",
              "       [-49.0321584 ],\n",
              "       [-65.30294292],\n",
              "       [-62.41327814],\n",
              "       [-60.09810088],\n",
              "       [-64.68308403],\n",
              "       [-66.82569135],\n",
              "       [-64.13913332],\n",
              "       [-58.87832199],\n",
              "       [-50.62698034],\n",
              "       [-65.12421524],\n",
              "       [-56.22266067],\n",
              "       [-63.3160556 ],\n",
              "       [-52.90132448],\n",
              "       [-56.20240018],\n",
              "       [-53.66487674],\n",
              "       [-64.87943164],\n",
              "       [-64.32810036],\n",
              "       [-66.53403576],\n",
              "       [-64.73144626],\n",
              "       [-57.99889801],\n",
              "       [-65.5911711 ],\n",
              "       [-57.09358557],\n",
              "       [-60.69686343],\n",
              "       [-64.85991046],\n",
              "       [-67.1131289 ],\n",
              "       [-64.95044093],\n",
              "       [-61.7430904 ],\n",
              "       [-43.53238154],\n",
              "       [-65.68721032],\n",
              "       [-65.73959526],\n",
              "       [-63.60888949],\n",
              "       [-48.99986268],\n",
              "       [-65.40484066],\n",
              "       [-63.5282127 ],\n",
              "       [-60.34977925],\n",
              "       [-63.11731085],\n",
              "       [-54.13125159],\n",
              "       [-50.24544905],\n",
              "       [-63.74718012],\n",
              "       [-61.86022577],\n",
              "       [-59.64961256],\n",
              "       [-62.72071368],\n",
              "       [-63.8413121 ],\n",
              "       [-49.81118746],\n",
              "       [-66.98997402],\n",
              "       [-57.13706379],\n",
              "       [-63.46857893],\n",
              "       [-59.73078744],\n",
              "       [-49.50763051],\n",
              "       [-66.62022541],\n",
              "       [-49.30851295],\n",
              "       [-56.85637727],\n",
              "       [-51.23851332],\n",
              "       [-53.65065   ],\n",
              "       [-57.43384045],\n",
              "       [-47.30023911],\n",
              "       [-65.08550376],\n",
              "       [-49.1337385 ],\n",
              "       [-66.29576974],\n",
              "       [-59.58963754],\n",
              "       [-63.54912429],\n",
              "       [-61.72047886],\n",
              "       [-55.70833494],\n",
              "       [-65.66607205],\n",
              "       [-66.26883435],\n",
              "       [-63.40103081],\n",
              "       [-66.57510216],\n",
              "       [-62.9650035 ],\n",
              "       [-65.77147605],\n",
              "       [-56.10101508],\n",
              "       [-66.0747167 ],\n",
              "       [-51.21059476],\n",
              "       [-55.11290848],\n",
              "       [-65.70666164],\n",
              "       [-57.95058897],\n",
              "       [-49.59687687],\n",
              "       [-57.77723858],\n",
              "       [-66.68514124],\n",
              "       [-65.5611263 ],\n",
              "       [-65.13460321],\n",
              "       [-64.15095612],\n",
              "       [-60.56413635],\n",
              "       [-66.4624752 ],\n",
              "       [-60.47529532],\n",
              "       [-48.15128459],\n",
              "       [-62.82473798],\n",
              "       [-65.38343099],\n",
              "       [-61.0089535 ],\n",
              "       [-51.98733249],\n",
              "       [-65.65124155],\n",
              "       [-59.78650847],\n",
              "       [-62.67617535],\n",
              "       [-67.59550447],\n",
              "       [-61.33519644],\n",
              "       [-66.55794648],\n",
              "       [-50.28714938],\n",
              "       [-59.36439189],\n",
              "       [-68.06190497],\n",
              "       [-63.77212512],\n",
              "       [-64.82824427],\n",
              "       [-63.21737738],\n",
              "       [-65.82382226],\n",
              "       [-64.05123085],\n",
              "       [-51.00281832],\n",
              "       [-59.08600482],\n",
              "       [-66.31219209],\n",
              "       [-63.42917424],\n",
              "       [-64.36444453],\n",
              "       [-54.04725975],\n",
              "       [-63.43656289],\n",
              "       [-67.89886858],\n",
              "       [-67.06598571],\n",
              "       [-65.03369734],\n",
              "       [-62.61470621],\n",
              "       [-54.7972276 ],\n",
              "       [-52.47579755],\n",
              "       [-56.37082861],\n",
              "       [-58.96852408],\n",
              "       [-56.47053483],\n",
              "       [-66.86494762],\n",
              "       [-59.68284334],\n",
              "       [-58.37480815],\n",
              "       [-58.71737952],\n",
              "       [-58.12395215],\n",
              "       [-64.55216111],\n",
              "       [-64.01608014],\n",
              "       [-55.61939618],\n",
              "       [-52.68589058],\n",
              "       [-40.68936807],\n",
              "       [-64.39267063],\n",
              "       [-64.34072267],\n",
              "       [-64.0380919 ],\n",
              "       [-63.74314024],\n",
              "       [-64.64309443],\n",
              "       [-65.85812535],\n",
              "       [-69.45207306],\n",
              "       [-58.57289353],\n",
              "       [-50.79230825],\n",
              "       [-56.03701275],\n",
              "       [-58.86206294],\n",
              "       [-62.91500103],\n",
              "       [-61.74418416],\n",
              "       [-66.45243279],\n",
              "       [-62.98272713],\n",
              "       [-64.56449285],\n",
              "       [-64.93272161],\n",
              "       [-65.43029021],\n",
              "       [-62.17816595],\n",
              "       [-66.87924402],\n",
              "       [-56.34224408],\n",
              "       [-67.66603286],\n",
              "       [-62.16344146],\n",
              "       [-66.45230981],\n",
              "       [-41.61466193],\n",
              "       [-65.64230118],\n",
              "       [-53.6628609 ],\n",
              "       [-53.02242328],\n",
              "       [-63.69552023],\n",
              "       [-65.15281234],\n",
              "       [-63.61506582],\n",
              "       [-65.55273719],\n",
              "       [-50.41009444],\n",
              "       [-66.83313301],\n",
              "       [-68.36852043],\n",
              "       [-65.84348769],\n",
              "       [-63.23796028],\n",
              "       [-58.71366832],\n",
              "       [-49.78993031],\n",
              "       [-67.31979671],\n",
              "       [-60.82483613],\n",
              "       [-54.36309316],\n",
              "       [-47.71599492],\n",
              "       [-65.00796382],\n",
              "       [-55.89830261],\n",
              "       [-60.01330135],\n",
              "       [-67.80185417],\n",
              "       [-59.55465223],\n",
              "       [-67.58426249],\n",
              "       [-65.22205202],\n",
              "       [-58.04343005],\n",
              "       [-52.03468979],\n",
              "       [-66.01839358],\n",
              "       [-65.41084319],\n",
              "       [-63.98825682],\n",
              "       [-45.84361267],\n",
              "       [-60.62176094],\n",
              "       [-66.45620127],\n",
              "       [-66.44040416],\n",
              "       [-51.08104708],\n",
              "       [-67.53444028],\n",
              "       [-55.96670505],\n",
              "       [-66.76474554],\n",
              "       [-61.10530884],\n",
              "       [-64.04494864],\n",
              "       [-60.69346805],\n",
              "       [-62.03261364],\n",
              "       [-55.4550773 ],\n",
              "       [-65.8091846 ],\n",
              "       [-54.24673156],\n",
              "       [-63.03725928],\n",
              "       [-53.95408808],\n",
              "       [-62.6197634 ],\n",
              "       [-66.25333608],\n",
              "       [-67.59556606],\n",
              "       [-58.04259271],\n",
              "       [-55.66596496],\n",
              "       [-60.18575081],\n",
              "       [-63.54405223],\n",
              "       [-61.76712856],\n",
              "       [-59.44899858],\n",
              "       [-67.09827713],\n",
              "       [-61.60207834],\n",
              "       [-54.83535645],\n",
              "       [-62.17414734],\n",
              "       [-57.53064485],\n",
              "       [-67.14772424],\n",
              "       [-65.32104605],\n",
              "       [-51.67177875],\n",
              "       [-50.2720835 ],\n",
              "       [-66.15317642],\n",
              "       [-64.27676046],\n",
              "       [-63.35612994],\n",
              "       [-56.80929107],\n",
              "       [-64.81507118],\n",
              "       [-63.56084538],\n",
              "       [-65.72095804],\n",
              "       [-51.91265822],\n",
              "       [-65.77934551],\n",
              "       [-66.86208834],\n",
              "       [-61.11928525],\n",
              "       [-65.46204753],\n",
              "       [-70.80490909],\n",
              "       [-66.96271024],\n",
              "       [-64.94243563],\n",
              "       [-61.39021579],\n",
              "       [-55.85808195],\n",
              "       [-63.15133824],\n",
              "       [-61.22520159],\n",
              "       [-64.6076893 ],\n",
              "       [-53.75691003],\n",
              "       [-55.24559942],\n",
              "       [-54.43561603],\n",
              "       [-48.48146732],\n",
              "       [-50.71365349],\n",
              "       [-63.02358811],\n",
              "       [-60.88221458],\n",
              "       [-59.97071726],\n",
              "       [-66.63019796],\n",
              "       [-55.97547572],\n",
              "       [-66.34752535],\n",
              "       [-65.27373317],\n",
              "       [-66.45418133],\n",
              "       [-58.87462337],\n",
              "       [-41.34109249],\n",
              "       [-65.62187927],\n",
              "       [-67.27966696],\n",
              "       [-65.15281234],\n",
              "       [-67.50783128],\n",
              "       [-58.5042581 ],\n",
              "       [-65.63350923],\n",
              "       [-60.23718642],\n",
              "       [-55.418852  ],\n",
              "       [-57.84760157],\n",
              "       [-53.32023642],\n",
              "       [-65.77235522],\n",
              "       [-47.98853628],\n",
              "       [-66.48829985],\n",
              "       [-39.97863344],\n",
              "       [-63.77514769],\n",
              "       [-65.83065586],\n",
              "       [-53.57917628],\n",
              "       [-64.88048509],\n",
              "       [-47.96796166],\n",
              "       [-64.74645673],\n",
              "       [-63.93622371],\n",
              "       [-46.6840896 ],\n",
              "       [-67.47295168],\n",
              "       [-67.53483424],\n",
              "       [-61.23763524],\n",
              "       [-58.51316863],\n",
              "       [-69.61960298],\n",
              "       [-54.90070878],\n",
              "       [-64.70719218],\n",
              "       [-51.49131112],\n",
              "       [-65.44523311],\n",
              "       [-51.65950229],\n",
              "       [-62.43901167],\n",
              "       [-60.49534853],\n",
              "       [-66.33987569],\n",
              "       [-62.05363764],\n",
              "       [-66.95711466],\n",
              "       [-65.01166244],\n",
              "       [-62.96360879],\n",
              "       [-60.41143295],\n",
              "       [-66.6504442 ],\n",
              "       [-65.25798047],\n",
              "       [-52.83501395],\n",
              "       [-59.74138092],\n",
              "       [-61.77816713],\n",
              "       [-62.35947305],\n",
              "       [-64.33902912],\n",
              "       [-64.26295785],\n",
              "       [-50.48150012],\n",
              "       [-57.09890128],\n",
              "       [-67.24495276],\n",
              "       [-54.56225972],\n",
              "       [-66.92587028],\n",
              "       [-44.53687466],\n",
              "       [-62.65327156],\n",
              "       [-62.60125743],\n",
              "       [-61.18775955],\n",
              "       [-66.55054924],\n",
              "       [-60.98920564],\n",
              "       [-57.73678684],\n",
              "       [-62.97958388],\n",
              "       [-65.56175153],\n",
              "       [-52.35320661],\n",
              "       [-65.06834808],\n",
              "       [-67.81896544],\n",
              "       [-48.9078802 ],\n",
              "       [-45.03801473],\n",
              "       [-65.51929472],\n",
              "       [-66.73054846],\n",
              "       [-59.08475853],\n",
              "       [-60.43402322],\n",
              "       [-66.50088803],\n",
              "       [-48.39383844],\n",
              "       [-65.85067082],\n",
              "       [-68.32601691],\n",
              "       [-51.16792795],\n",
              "       [-63.0531561 ],\n",
              "       [-54.06002999],\n",
              "       [-51.00916023],\n",
              "       [-46.24342263],\n",
              "       [-63.95666877],\n",
              "       [-61.0470082 ],\n",
              "       [-61.72730815],\n",
              "       [-54.51163202],\n",
              "       [-65.39486811],\n",
              "       [-55.94041816],\n",
              "       [-67.44297904],\n",
              "       [-66.45536193],\n",
              "       [-62.41833734],\n",
              "       [-52.01000972],\n",
              "       [-64.00350914],\n",
              "       [-65.92446543],\n",
              "       [-60.53098891],\n",
              "       [-48.63483248],\n",
              "       [-63.41325855],\n",
              "       [-64.10454626],\n",
              "       [-60.81520895],\n",
              "       [-60.15724713],\n",
              "       [-66.68883986],\n",
              "       [-52.33185394],\n",
              "       [-64.0409956 ],\n",
              "       [-51.80071808],\n",
              "       [-61.7462041 ],\n",
              "       [-69.15111686],\n",
              "       [-67.44207811],\n",
              "       [-60.58375096],\n",
              "       [-61.26961695],\n",
              "       [-61.68763666],\n",
              "       [-63.43000929],\n",
              "       [-53.46522049],\n",
              "       [-57.68601289],\n",
              "       [-56.72830903],\n",
              "       [-46.94463848],\n",
              "       [-63.46621344],\n",
              "       [-45.46905041],\n",
              "       [-59.02177581],\n",
              "       [-65.30602459],\n",
              "       [-47.05725716],\n",
              "       [-65.86496722],\n",
              "       [-48.88898426],\n",
              "       [-65.77427345],\n",
              "       [-55.67303999],\n",
              "       [-64.60872148],\n",
              "       [-66.47705557],\n",
              "       [-55.16778588],\n",
              "       [-67.51585575],\n",
              "       [-63.01294162],\n",
              "       [-52.65529869],\n",
              "       [-61.44450199],\n",
              "       [-57.87932935],\n",
              "       [-52.45528451],\n",
              "       [-65.25371821],\n",
              "       [-65.05880563],\n",
              "       [-65.41395059],\n",
              "       [-58.55139272],\n",
              "       [-67.20081726],\n",
              "       [-51.74055002],\n",
              "       [-55.9787694 ],\n",
              "       [-62.52580111],\n",
              "       [-64.03279286],\n",
              "       [-60.71115143],\n",
              "       [-60.59960336],\n",
              "       [-52.87645574],\n",
              "       [-57.65240502],\n",
              "       [-65.21738691],\n",
              "       [-57.13808757],\n",
              "       [-62.63326488],\n",
              "       [-51.82150251],\n",
              "       [-63.15043961],\n",
              "       [-62.87071712],\n",
              "       [-49.00182533],\n",
              "       [-63.56936622],\n",
              "       [-64.69790626],\n",
              "       [-66.62289185],\n",
              "       [-46.07082065],\n",
              "       [-49.21618492],\n",
              "       [-64.29900518],\n",
              "       [-61.54226231],\n",
              "       [-68.04148306],\n",
              "       [-48.80047802],\n",
              "       [-51.25521146],\n",
              "       [-52.91133088],\n",
              "       [-55.88888953],\n",
              "       [-56.85692245],\n",
              "       [-62.68483604],\n",
              "       [-54.51562318],\n",
              "       [-59.53622041],\n",
              "       [-53.9770453 ],\n",
              "       [-62.89555401],\n",
              "       [-63.50449911],\n",
              "       [-54.01669601],\n",
              "       [-65.04019365],\n",
              "       [-59.18086803],\n",
              "       [-65.92010973],\n",
              "       [-62.31014282],\n",
              "       [-63.48547191],\n",
              "       [-66.95691312],\n",
              "       [-49.84617736],\n",
              "       [-49.83175779],\n",
              "       [-53.46991098],\n",
              "       [-65.98386811],\n",
              "       [-66.1918349 ],\n",
              "       [-63.20345179],\n",
              "       [-50.94156329],\n",
              "       [-58.7433996 ],\n",
              "       [-57.94293743],\n",
              "       [-57.57928675],\n",
              "       [-60.49211434],\n",
              "       [-67.96032945],\n",
              "       [-50.790248  ],\n",
              "       [-61.21692489],\n",
              "       [-62.71778684],\n",
              "       [-51.81694968],\n",
              "       [-62.39659927],\n",
              "       [-63.66252072],\n",
              "       [-52.71927596],\n",
              "       [-65.66859007],\n",
              "       [-57.60805555],\n",
              "       [-53.37910481],\n",
              "       [-65.25775809],\n",
              "       [-52.60193058],\n",
              "       [-61.02845781],\n",
              "       [-64.18729172],\n",
              "       [-57.05753394],\n",
              "       [-64.58584724],\n",
              "       [-41.54536067],\n",
              "       [-64.89304122],\n",
              "       [-55.13494338],\n",
              "       [-64.42333008],\n",
              "       [-69.24755046],\n",
              "       [-59.88880905],\n",
              "       [-66.23130118],\n",
              "       [-65.07434421],\n",
              "       [-64.28052277],\n",
              "       [-66.7656293 ],\n",
              "       [-68.3134395 ],\n",
              "       [-58.32593297],\n",
              "       [-66.07314402],\n",
              "       [-63.92237868],\n",
              "       [-51.94242334],\n",
              "       [-56.04624566],\n",
              "       [-67.93339405],\n",
              "       [-67.04003808],\n",
              "       [-56.99383048],\n",
              "       [-58.31494951],\n",
              "       [-60.82811064],\n",
              "       [-46.94233058],\n",
              "       [-65.06961752],\n",
              "       [-65.64947174],\n",
              "       [-54.23971589],\n",
              "       [-55.2408767 ],\n",
              "       [-57.2164416 ],\n",
              "       [-58.50271497],\n",
              "       [-55.84529243],\n",
              "       [-59.76531291],\n",
              "       [-65.53176402],\n",
              "       [-47.32871142],\n",
              "       [-53.30029542],\n",
              "       [-52.72301222],\n",
              "       [-64.74579785],\n",
              "       [-49.93275062],\n",
              "       [-51.73063906],\n",
              "       [-59.80089183],\n",
              "       [-67.28658309],\n",
              "       [-66.92915966],\n",
              "       [-62.6369635 ],\n",
              "       [-63.29208119],\n",
              "       [-62.10088683],\n",
              "       [-64.40675292],\n",
              "       [-66.92216737],\n",
              "       [-50.18379535],\n",
              "       [-58.37434802],\n",
              "       [-54.65849618],\n",
              "       [-61.71140293],\n",
              "       [-57.27339176],\n",
              "       [-64.54992706],\n",
              "       [-47.65769428],\n",
              "       [-66.11211632],\n",
              "       [-59.24729683],\n",
              "       [-49.17885099],\n",
              "       [-67.42249554],\n",
              "       [-62.7333314 ],\n",
              "       [-66.78043665],\n",
              "       [-54.83917793],\n",
              "       [-65.30664154],\n",
              "       [-63.5760427 ],\n",
              "       [-41.27176585],\n",
              "       [-63.91747819],\n",
              "       [-66.40712497],\n",
              "       [-41.92605261],\n",
              "       [-70.34223723],\n",
              "       [-58.92260591],\n",
              "       [-64.4295616 ],\n",
              "       [-58.2486223 ],\n",
              "       [-52.39950189],\n",
              "       [-65.38998889],\n",
              "       [-55.94161343],\n",
              "       [-67.68620054],\n",
              "       [-65.17484724],\n",
              "       [-68.28800692],\n",
              "       [-65.85225636],\n",
              "       [-63.95722844],\n",
              "       [-53.44272116],\n",
              "       [-52.87979594],\n",
              "       [-56.2050685 ],\n",
              "       [-66.61513208],\n",
              "       [-58.6900246 ],\n",
              "       [-62.42655077],\n",
              "       [-57.23174703],\n",
              "       [-65.91561619],\n",
              "       [-66.48895922],\n",
              "       [-58.40244274],\n",
              "       [-56.34662952],\n",
              "       [-56.64099836],\n",
              "       [-66.94687071],\n",
              "       [-45.5736549 ],\n",
              "       [-64.52885247],\n",
              "       [-53.36285403],\n",
              "       [-56.498865  ],\n",
              "       [-64.6919163 ],\n",
              "       [-64.12260287],\n",
              "       [-65.58786885],\n",
              "       [-66.68348383],\n",
              "       [-67.2547112 ],\n",
              "       [-51.37077206],\n",
              "       [-64.88846314],\n",
              "       [-58.86724311],\n",
              "       [-65.08777383],\n",
              "       [-66.22190097],\n",
              "       [-62.46941042],\n",
              "       [-67.82479   ],\n",
              "       [-61.01869937],\n",
              "       [-55.77654654],\n",
              "       [-58.17077953],\n",
              "       [-59.53503552],\n",
              "       [-45.05308048],\n",
              "       [-51.69021916],\n",
              "       [-64.22898774],\n",
              "       [-60.49664771],\n",
              "       [-66.21100225],\n",
              "       [-64.52031905],\n",
              "       [-57.82757834],\n",
              "       [-47.96808483],\n",
              "       [-66.81967595],\n",
              "       [-64.19974644],\n",
              "       [-53.21889386],\n",
              "       [-62.24895716],\n",
              "       [-64.18739154],\n",
              "       [-59.16897725],\n",
              "       [-65.20079487],\n",
              "       [-71.571696  ],\n",
              "       [-64.82790301],\n",
              "       [-47.75310398],\n",
              "       [-67.27926412],\n",
              "       [-65.22304388],\n",
              "       [-66.1358299 ],\n",
              "       [-65.29352574],\n",
              "       [-56.12497898],\n",
              "       [-46.94985498],\n",
              "       [-56.08281024],\n",
              "       [-58.18101688],\n",
              "       [-60.25577713],\n",
              "       [-48.78437977],\n",
              "       [-54.76192007],\n",
              "       [-67.30931321],\n",
              "       [-47.47520241],\n",
              "       [-62.64969362],\n",
              "       [-66.38730285],\n",
              "       [-60.92923062],\n",
              "       [-68.90478166],\n",
              "       [-63.6902169 ],\n",
              "       [-63.09394681],\n",
              "       [-46.61003229],\n",
              "       [-65.50581639],\n",
              "       [-53.50400823],\n",
              "       [-57.96783559],\n",
              "       [-59.3095102 ],\n",
              "       [-67.64926715],\n",
              "       [-59.47919561],\n",
              "       [-47.59590913],\n",
              "       [-63.31209615],\n",
              "       [-54.95398165],\n",
              "       [-51.27244977],\n",
              "       [-63.57806264],\n",
              "       [-66.27500228],\n",
              "       [-67.07176586],\n",
              "       [-65.53092468],\n",
              "       [-65.46398064],\n",
              "       [-68.00736453],\n",
              "       [-60.8727974 ],\n",
              "       [-65.77465913],\n",
              "       [-60.57794356],\n",
              "       [-67.35546864],\n",
              "       [-56.31930826],\n",
              "       [-65.52604546],\n",
              "       [-67.35832792],\n",
              "       [-64.69735089],\n",
              "       [-65.39299659],\n",
              "       [-66.78995984],\n",
              "       [-66.90899428],\n",
              "       [-54.65710147],\n",
              "       [-50.69559479],\n",
              "       [-63.20650391],\n",
              "       [-58.76660424],\n",
              "       [-64.90196462],\n",
              "       [-67.68032098],\n",
              "       [-64.08852676],\n",
              "       [-64.38146048],\n",
              "       [-49.95945063],\n",
              "       [-66.60178313],\n",
              "       [-49.08581077],\n",
              "       [-66.12716322],\n",
              "       [-63.37764561],\n",
              "       [-58.69923197],\n",
              "       [-61.51739128],\n",
              "       [-49.27442398],\n",
              "       [-66.47251761],\n",
              "       [-61.42228253],\n",
              "       [-65.68925153],\n",
              "       [-50.29377284],\n",
              "       [-53.75895741],\n",
              "       [-68.3216145 ],\n",
              "       [-53.7153137 ],\n",
              "       [-58.67392237],\n",
              "       [-55.82409687],\n",
              "       [-58.25597712],\n",
              "       [-64.97429466],\n",
              "       [-65.26186165],\n",
              "       [-56.85343956],\n",
              "       [-65.69438518],\n",
              "       [-66.2615028 ],\n",
              "       [-66.71394815],\n",
              "       [-52.59351354],\n",
              "       [-59.8867934 ],\n",
              "       [-65.43951455],\n",
              "       [-55.58921994],\n",
              "       [-51.80686466],\n",
              "       [-65.92299216],\n",
              "       [-65.81648661],\n",
              "       [-50.96164811],\n",
              "       [-62.23434327],\n",
              "       [-65.56640407],\n",
              "       [-51.96070444],\n",
              "       [-64.87573302],\n",
              "       [-63.74083632],\n",
              "       [-58.21818953],\n",
              "       [-58.57628691],\n",
              "       [-67.51097653],\n",
              "       [-53.70159582],\n",
              "       [-67.28949109],\n",
              "       [-50.56380048],\n",
              "       [-54.52446783],\n",
              "       [-62.51032411],\n",
              "       [-48.68011654],\n",
              "       [-55.9315202 ],\n",
              "       [-65.73083745],\n",
              "       [-61.9755066 ],\n",
              "       [-48.35151288],\n",
              "       [-63.26535561],\n",
              "       [-67.10582279],\n",
              "       [-67.34975008],\n",
              "       [-51.75782887],\n",
              "       [-65.92021144],\n",
              "       [-54.83993062],\n",
              "       [-60.20551134],\n",
              "       [-66.50867734],\n",
              "       [-36.70886383],\n",
              "       [-46.08740871],\n",
              "       [-56.25945211],\n",
              "       [-64.52900289],\n",
              "       [-59.64568955],\n",
              "       [-51.14617702],\n",
              "       [-69.40450575],\n",
              "       [-45.85695484],\n",
              "       [-46.07388719],\n",
              "       [-67.21431874],\n",
              "       [-68.66031387],\n",
              "       [-52.88899073],\n",
              "       [-68.65313902],\n",
              "       [-65.02233877],\n",
              "       [-67.38406145],\n",
              "       [-69.14409243],\n",
              "       [-56.25210581]])"
            ]
          },
          "execution_count": 31,
          "metadata": {},
          "output_type": "execute_result"
        }
      ],
      "source": [
        "#initial prediction\n",
        "predict(X_train,theta)"
      ]
    },
    {
      "cell_type": "code",
      "execution_count": null,
      "id": "af60105f",
      "metadata": {
        "id": "af60105f"
      },
      "outputs": [],
      "source": [
        "#Update for each theta\n",
        "def update_weights( X, Y,  theta ) :\n",
        "        Y_pred = predict(X, theta)\n",
        "        # calculate gradients\n",
        "        m = X.shape[0]\n",
        "        dtheta = - ( 2 * ( X.T ).dot( Y - Y_pred )  ) / m\n",
        "        # detheta = np.array([0, 0, 0, 0, 0, 0, 0])\n",
        "        # for j in range(len(detheta)):\n",
        "        #     for i in range(m):\n",
        "        #         detheta[j] += (Y[i] - Y_pred[i]) * X[i][j]\n",
        "        # dtheta = -2 * detheta / m\n",
        "        return dtheta"
      ]
    },
    {
      "cell_type": "markdown",
      "id": "ce62a83d",
      "metadata": {
        "id": "ce62a83d"
      },
      "source": [
        "$dtheta = - \\frac{2}{m} * (X^{T}) \\cdot (Y - h_{\\theta}(X))$"
      ]
    },
    {
      "cell_type": "code",
      "execution_count": null,
      "id": "7fe991a1",
      "metadata": {
        "id": "7fe991a1",
        "outputId": "794436b9-e3ef-464d-d07d-98315c2a80fc"
      },
      "outputs": [
        {
          "data": {
            "text/plain": [
              "array([[-8675.32677058],\n",
              "       [-6961.42874272],\n",
              "       [-8121.71279084],\n",
              "       [-3618.20442292],\n",
              "       [-1097.2860622 ],\n",
              "       [ -599.41503294]])"
            ]
          },
          "execution_count": 33,
          "metadata": {},
          "output_type": "execute_result"
        }
      ],
      "source": [
        "update_weights(X_train,Y_train,theta)"
      ]
    },
    {
      "cell_type": "code",
      "execution_count": null,
      "id": "cf1d3b3a",
      "metadata": {
        "id": "cf1d3b3a"
      },
      "outputs": [],
      "source": [
        "def mse(X,Y,theta): # mean square error\n",
        "    Y_pred = predict(X, theta)\n",
        "    return np.mean((Y-Y_pred)**2)"
      ]
    },
    {
      "cell_type": "code",
      "execution_count": null,
      "id": "482ea83c",
      "metadata": {
        "id": "482ea83c",
        "outputId": "65f9fc3e-bee6-4aff-e525-e542c86b0e26"
      },
      "outputs": [
        {
          "name": "stdout",
          "output_type": "stream",
          "text": [
            "[[-13.60468039]\n",
            " [-12.39783315]\n",
            " [-16.37302275]\n",
            " [ -5.93451441]\n",
            " [ -1.34881907]\n",
            " [ -1.01947996]\n",
            " [ -0.19798483]]\n"
          ]
        }
      ],
      "source": [
        "#iterative SGD each update with the entire training set -- batch gradient descent, page 5 Andrew Ng notes,\n",
        "learning_rate = 0.00001\n",
        "theta = init(X_aug_train)\n",
        "# for _ in range(1000):\n",
        "prev_loss = 0\n",
        "iteration = 0\n",
        "loss = mse(X_aug_train,Y_train,theta)\n",
        "while (abs(prev_loss - loss) > 1e-9):\n",
        "    learning_rate = 0.00001 / (1 + iteration * 0.000001)\n",
        "    iteration += 1\n",
        "    loss = mse(X_aug_train,Y_train,theta)\n",
        "    prev_loss = loss\n",
        "    dtheta = update_weights(X_aug_train,Y_train,theta)\n",
        "    print(dtheta)\n",
        "    theta = theta-learning_rate*dtheta"
      ]
    },
    {
      "cell_type": "markdown",
      "id": "8c98934b",
      "metadata": {
        "id": "8c98934b"
      },
      "source": [
        "Principal component analysis (PCA) is usually explained via an eigen-decomposition of the covariance matrix."
      ]
    },
    {
      "cell_type": "code",
      "execution_count": null,
      "id": "f1b1b0fe",
      "metadata": {
        "id": "f1b1b0fe",
        "outputId": "5ca445b0-3e98-49d2-bae7-2a7a65e7d7b0"
      },
      "outputs": [
        {
          "data": {
            "text/html": [
              "<div>\n",
              "<style scoped>\n",
              "    .dataframe tbody tr th:only-of-type {\n",
              "        vertical-align: middle;\n",
              "    }\n",
              "\n",
              "    .dataframe tbody tr th {\n",
              "        vertical-align: top;\n",
              "    }\n",
              "\n",
              "    .dataframe thead th {\n",
              "        text-align: right;\n",
              "    }\n",
              "</style>\n",
              "<table border=\"1\" class=\"dataframe\">\n",
              "  <thead>\n",
              "    <tr style=\"text-align: right;\">\n",
              "      <th></th>\n",
              "      <th>TempAvgF</th>\n",
              "      <th>DewPointAvgF</th>\n",
              "      <th>HumidityAvgPercent</th>\n",
              "      <th>SeaLevelPressureAvgInches</th>\n",
              "      <th>VisibilityAvgMiles</th>\n",
              "      <th>WindAvgMPH</th>\n",
              "    </tr>\n",
              "  </thead>\n",
              "  <tbody>\n",
              "    <tr>\n",
              "      <th>0</th>\n",
              "      <td>60</td>\n",
              "      <td>49.0</td>\n",
              "      <td>75.0</td>\n",
              "      <td>29.68</td>\n",
              "      <td>7.0</td>\n",
              "      <td>4.0</td>\n",
              "    </tr>\n",
              "    <tr>\n",
              "      <th>1</th>\n",
              "      <td>48</td>\n",
              "      <td>36.0</td>\n",
              "      <td>68.0</td>\n",
              "      <td>30.13</td>\n",
              "      <td>10.0</td>\n",
              "      <td>6.0</td>\n",
              "    </tr>\n",
              "    <tr>\n",
              "      <th>2</th>\n",
              "      <td>45</td>\n",
              "      <td>27.0</td>\n",
              "      <td>52.0</td>\n",
              "      <td>30.49</td>\n",
              "      <td>10.0</td>\n",
              "      <td>3.0</td>\n",
              "    </tr>\n",
              "    <tr>\n",
              "      <th>3</th>\n",
              "      <td>46</td>\n",
              "      <td>28.0</td>\n",
              "      <td>56.0</td>\n",
              "      <td>30.45</td>\n",
              "      <td>10.0</td>\n",
              "      <td>4.0</td>\n",
              "    </tr>\n",
              "    <tr>\n",
              "      <th>4</th>\n",
              "      <td>50</td>\n",
              "      <td>40.0</td>\n",
              "      <td>71.0</td>\n",
              "      <td>30.33</td>\n",
              "      <td>10.0</td>\n",
              "      <td>2.0</td>\n",
              "    </tr>\n",
              "    <tr>\n",
              "      <th>...</th>\n",
              "      <td>...</td>\n",
              "      <td>...</td>\n",
              "      <td>...</td>\n",
              "      <td>...</td>\n",
              "      <td>...</td>\n",
              "      <td>...</td>\n",
              "    </tr>\n",
              "    <tr>\n",
              "      <th>1314</th>\n",
              "      <td>89</td>\n",
              "      <td>67.0</td>\n",
              "      <td>54.0</td>\n",
              "      <td>29.97</td>\n",
              "      <td>10.0</td>\n",
              "      <td>5.0</td>\n",
              "    </tr>\n",
              "    <tr>\n",
              "      <th>1315</th>\n",
              "      <td>91</td>\n",
              "      <td>64.0</td>\n",
              "      <td>54.0</td>\n",
              "      <td>29.90</td>\n",
              "      <td>10.0</td>\n",
              "      <td>5.0</td>\n",
              "    </tr>\n",
              "    <tr>\n",
              "      <th>1316</th>\n",
              "      <td>92</td>\n",
              "      <td>64.0</td>\n",
              "      <td>51.0</td>\n",
              "      <td>29.86</td>\n",
              "      <td>10.0</td>\n",
              "      <td>4.0</td>\n",
              "    </tr>\n",
              "    <tr>\n",
              "      <th>1317</th>\n",
              "      <td>93</td>\n",
              "      <td>68.0</td>\n",
              "      <td>48.0</td>\n",
              "      <td>29.91</td>\n",
              "      <td>10.0</td>\n",
              "      <td>4.0</td>\n",
              "    </tr>\n",
              "    <tr>\n",
              "      <th>1318</th>\n",
              "      <td>88</td>\n",
              "      <td>61.0</td>\n",
              "      <td>43.0</td>\n",
              "      <td>29.97</td>\n",
              "      <td>10.0</td>\n",
              "      <td>4.0</td>\n",
              "    </tr>\n",
              "  </tbody>\n",
              "</table>\n",
              "<p>1319 rows × 6 columns</p>\n",
              "</div>"
            ],
            "text/plain": [
              "      TempAvgF  DewPointAvgF  HumidityAvgPercent  SeaLevelPressureAvgInches  \\\n",
              "0           60          49.0                75.0                      29.68   \n",
              "1           48          36.0                68.0                      30.13   \n",
              "2           45          27.0                52.0                      30.49   \n",
              "3           46          28.0                56.0                      30.45   \n",
              "4           50          40.0                71.0                      30.33   \n",
              "...        ...           ...                 ...                        ...   \n",
              "1314        89          67.0                54.0                      29.97   \n",
              "1315        91          64.0                54.0                      29.90   \n",
              "1316        92          64.0                51.0                      29.86   \n",
              "1317        93          68.0                48.0                      29.91   \n",
              "1318        88          61.0                43.0                      29.97   \n",
              "\n",
              "      VisibilityAvgMiles  WindAvgMPH  \n",
              "0                    7.0         4.0  \n",
              "1                   10.0         6.0  \n",
              "2                   10.0         3.0  \n",
              "3                   10.0         4.0  \n",
              "4                   10.0         2.0  \n",
              "...                  ...         ...  \n",
              "1314                10.0         5.0  \n",
              "1315                10.0         5.0  \n",
              "1316                10.0         4.0  \n",
              "1317                10.0         4.0  \n",
              "1318                10.0         4.0  \n",
              "\n",
              "[1319 rows x 6 columns]"
            ]
          },
          "execution_count": 36,
          "metadata": {},
          "output_type": "execute_result"
        }
      ],
      "source": [
        "X"
      ]
    },
    {
      "cell_type": "code",
      "execution_count": null,
      "id": "2bfc08d4",
      "metadata": {
        "id": "2bfc08d4",
        "outputId": "86b74ed9-ae98-44d3-d48b-c13e519bb8a1"
      },
      "outputs": [
        {
          "data": {
            "text/plain": [
              "(1319, 18)"
            ]
          },
          "execution_count": 37,
          "metadata": {},
          "output_type": "execute_result"
        }
      ],
      "source": [
        "data.drop(['PrecipitationSumInches'], axis = 1).shape"
      ]
    },
    {
      "cell_type": "code",
      "execution_count": null,
      "id": "c1493793",
      "metadata": {
        "id": "c1493793"
      },
      "outputs": [],
      "source": [
        "cov_matrix = np.cov(X.to_numpy().T)\n",
        "\n",
        "eigenvalues, eigenvectors = np.linalg.eig (cov_matrix)\n",
        "\n",
        "sorted_indices = np.argsort (eigenvalues) [::-1]\n",
        "sorted_eigenvalues = eigenvalues [sorted_indices]\n",
        "sorted_eigenvectors = eigenvectors [:, sorted_indices]\n",
        "\n",
        "n = 1\n",
        "principal_eigenvectors = sorted_eigenvectors [:, :n]\n",
        "\n"
      ]
    },
    {
      "cell_type": "code",
      "execution_count": null,
      "id": "c08d8638",
      "metadata": {
        "id": "c08d8638",
        "outputId": "097693a1-f60d-4c65-cefd-dcdd99c1691d"
      },
      "outputs": [
        {
          "data": {
            "text/plain": [
              "array([[6.14290671e-01],\n",
              "       [7.43012091e-01],\n",
              "       [2.65636951e-01],\n",
              "       [6.98987440e-04],\n",
              "       [1.67432737e-03],\n",
              "       [3.70441026e-03]])"
            ]
          },
          "execution_count": 39,
          "metadata": {},
          "output_type": "execute_result"
        }
      ],
      "source": [
        "principal_eigenvectors"
      ]
    },
    {
      "cell_type": "markdown",
      "id": "b80f5594",
      "metadata": {
        "id": "b80f5594"
      },
      "source": [
        "task: implement this using SVD.\n",
        "\n",
        "The process is as below:\n",
        "\n",
        "1. Center the Data: Subtract the column mean from each column of your data matrix B.\n",
        "2. Compute the SVD of B: Perform Singular Value Decomposition on the centered data matrix to get matrices U, Σ (Sigma), and V^T. In Python, you can use numpy.linalg.svd to do this  .\n",
        "3. Calculate Principal Components (PCs): The principal components are given by the product of U and Sigma (U * Σ)2."
      ]
    },
    {
      "cell_type": "code",
      "execution_count": null,
      "id": "59d754b0",
      "metadata": {
        "id": "59d754b0",
        "outputId": "bb15a103-d5d0-44d5-ebc3-3a0baa03b4d4"
      },
      "outputs": [
        {
          "data": {
            "text/plain": [
              "array([-111.07005641,  -15.19856697,    0.76761923,   -1.54897026,\n",
              "         -0.75559606,    0.88828864])"
            ]
          },
          "execution_count": 42,
          "metadata": {},
          "output_type": "execute_result"
        }
      ],
      "source": [
        "\n",
        "# Step 1: Center the data\n",
        "X_centered = X - np.mean(X, axis=0)\n",
        "\n",
        "# Step 2: Compute the SVD of the centered data\n",
        "U, s, Vt = np.linalg.svd(X, full_matrices=False)\n",
        "\n",
        "# Step 3: Calculate the Principal Components\n",
        "PC = np.dot(U[:, :len(s)], np.diag(s))\n",
        "\n",
        "PC[0]"
      ]
    }
  ],
  "metadata": {
    "kernelspec": {
      "display_name": "Python 3 (ipykernel)",
      "language": "python",
      "name": "python3"
    },
    "language_info": {
      "codemirror_mode": {
        "name": "ipython",
        "version": 3
      },
      "file_extension": ".py",
      "mimetype": "text/x-python",
      "name": "python",
      "nbconvert_exporter": "python",
      "pygments_lexer": "ipython3",
      "version": "3.11.4"
    },
    "colab": {
      "provenance": []
    }
  },
  "nbformat": 4,
  "nbformat_minor": 5
}