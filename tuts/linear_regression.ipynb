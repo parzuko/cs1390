{
 "cells": [
  {
   "cell_type": "code",
   "execution_count": 1,
   "metadata": {},
   "outputs": [],
   "source": [
    "import numpy as np \n",
    "import matplotlib.pyplot as plt"
   ]
  },
  {
   "cell_type": "code",
   "execution_count": 4,
   "metadata": {},
   "outputs": [],
   "source": [
    "data = np.loadtxt('./data/data.txt', delimiter=',')"
   ]
  },
  {
   "cell_type": "code",
   "execution_count": 10,
   "metadata": {},
   "outputs": [],
   "source": [
    "X = data[:, 0]\n",
    "y = data[:, 1].reshape(y.size, 1)"
   ]
  },
  {
   "cell_type": "code",
   "execution_count": 11,
   "metadata": {},
   "outputs": [
    {
     "data": {
      "text/plain": [
       "array([[1.000e+00, 1.500e+03],\n",
       "       [1.000e+00, 1.700e+03],\n",
       "       [1.000e+00, 1.750e+03],\n",
       "       [1.000e+00, 1.800e+03],\n",
       "       [1.000e+00, 1.820e+03],\n",
       "       [1.000e+00, 1.920e+03],\n",
       "       [1.000e+00, 1.450e+03],\n",
       "       [1.000e+00, 1.590e+03],\n",
       "       [1.000e+00, 1.596e+03],\n",
       "       [1.000e+00, 1.623e+03],\n",
       "       [1.000e+00, 1.878e+03],\n",
       "       [1.000e+00, 1.658e+03],\n",
       "       [1.000e+00, 1.720e+03],\n",
       "       [1.000e+00, 1.985e+03],\n",
       "       [1.000e+00, 2.000e+03],\n",
       "       [1.000e+00, 2.100e+03],\n",
       "       [1.000e+00, 2.050e+03],\n",
       "       [1.000e+00, 1.990e+03],\n",
       "       [1.000e+00, 1.965e+03],\n",
       "       [1.000e+00, 1.970e+03],\n",
       "       [1.000e+00, 2.120e+03],\n",
       "       [1.000e+00, 2.200e+03],\n",
       "       [1.000e+00, 2.156e+03],\n",
       "       [1.000e+00, 1.269e+03],\n",
       "       [1.000e+00, 1.489e+03],\n",
       "       [1.000e+00, 1.785e+03],\n",
       "       [1.000e+00, 1.965e+03],\n",
       "       [1.000e+00, 1.948e+03],\n",
       "       [1.000e+00, 2.008e+03],\n",
       "       [1.000e+00, 2.079e+03],\n",
       "       [1.000e+00, 2.116e+03],\n",
       "       [1.000e+00, 2.230e+03],\n",
       "       [1.000e+00, 2.200e+03],\n",
       "       [1.000e+00, 2.220e+03],\n",
       "       [1.000e+00, 2.365e+03],\n",
       "       [1.000e+00, 2.325e+03],\n",
       "       [1.000e+00, 2.396e+03],\n",
       "       [1.000e+00, 2.489e+03],\n",
       "       [1.000e+00, 2.420e+03],\n",
       "       [1.000e+00, 2.398e+03],\n",
       "       [1.000e+00, 2.350e+03],\n",
       "       [1.000e+00, 2.375e+03],\n",
       "       [1.000e+00, 2.236e+03],\n",
       "       [1.000e+00, 2.347e+03],\n",
       "       [1.000e+00, 2.459e+03]])"
      ]
     },
     "execution_count": 11,
     "metadata": {},
     "output_type": "execute_result"
    }
   ],
   "source": [
    "X = np.vstack((np.ones(len(X)), X)).T\n",
    "X"
   ]
  },
  {
   "cell_type": "code",
   "execution_count": 12,
   "metadata": {},
   "outputs": [
    {
     "name": "stdout",
     "output_type": "stream",
     "text": [
      "(45, 2) (45, 1)\n"
     ]
    }
   ],
   "source": [
    "print(X.shape, y.shape)"
   ]
  },
  {
   "cell_type": "code",
   "execution_count": 13,
   "metadata": {},
   "outputs": [
    {
     "data": {
      "image/png": "[encoded data removed]",
      "text/plain": [
       "<Figure size 640x480 with 1 Axes>"
      ]
     },
     "metadata": {},
     "output_type": "display_data"
    }
   ],
   "source": [
    "plt.scatter(X[:, 1], y)\n",
    "plt.show()"
   ]
  },
  {
   "cell_type": "code",
   "execution_count": 14,
   "metadata": {},
   "outputs": [],
   "source": [
    "def model(X, Y, learning_rate, interations):\n",
    "    m = Y.size\n",
    "    theta = np.zeros((2, 1)) \n",
    "    cost_list = []\n",
    "\n",
    "    for i in range(interations):\n",
    "        y_pred = np.dot(X, theta)\n",
    "        cost = (1/(2*m)) * np.sum(np.square(y_pred - Y))\n",
    "\n",
    "        d_theta = (1/m) * np.dot(X.T, (y_pred - Y))\n",
    "        theta = theta - learning_rate * d_theta\n",
    "\n",
    "        cost_list.append(cost)\n",
    "    \n",
    "    return theta, cost_list"
   ]
  },
  {
   "cell_type": "code",
   "execution_count": 15,
   "metadata": {},
   "outputs": [],
   "source": [
    "iterations = 100\n",
    "learning_rate = 0.000005\n",
    "theta, cost_list = model(X, y, learning_rate, iterations)"
   ]
  },
  {
   "cell_type": "code",
   "execution_count": 21,
   "metadata": {},
   "outputs": [
    {
     "name": "stdout",
     "output_type": "stream",
     "text": [
      "Our model predicts the price of house with 1547 sq. ft. area as : $ -1.3267733942203083e+134\n",
      "Our model predicts the price of house with 1896 sq. ft. area as : $ -1.6260906329676678e+134\n",
      "Our model predicts the price of house with 1934 sq. ft. area as : $ -1.6586810486478961e+134\n",
      "Our model predicts the price of house with 2800 sq. ft. area as : $ -2.4013994691499406e+134\n",
      "Our model predicts the price of house with 3400 sq. ft. area as : $ -2.915984979890387e+134\n",
      "Our model predicts the price of house with 5000 sq. ft. area as : $ -4.288213008531577e+134\n"
     ]
    }
   ],
   "source": [
    "new_houses = np.array([[1, 1547], [1, 1896], [1, 1934], [1,\n",
    "2800], [1, 3400], [1, 5000]])\n",
    "for house in new_houses :\n",
    "    print(\"Our model predicts the price of house with\", house[1], \"sq. ft. area as : $\" ,round(np.dot(house, theta)[0],2))"
   ]
  },
  {
   "cell_type": "code",
   "execution_count": null,
   "metadata": {},
   "outputs": [],
   "source": []
  }
 ],
 "metadata": {
  "kernelspec": {
   "display_name": "Python 3",
   "language": "python",
   "name": "python3"
  },
  "language_info": {
   "codemirror_mode": {
    "name": "ipython",
    "version": 3
   },
   "file_extension": ".py",
   "mimetype": "text/x-python",
   "name": "python",
   "nbconvert_exporter": "python",
   "pygments_lexer": "ipython3",
   "version": "3.9.6"
  }
 },
 "nbformat": 4,
 "nbformat_minor": 2
}
